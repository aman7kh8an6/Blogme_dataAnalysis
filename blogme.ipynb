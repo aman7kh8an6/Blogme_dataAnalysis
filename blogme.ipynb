{
 "cells": [
  {
   "cell_type": "code",
   "execution_count": 14,
   "id": "e085c547-22b4-40a0-a594-a456b9b6fbef",
   "metadata": {},
   "outputs": [],
   "source": [
    "import pandas as pd\n",
    "from vaderSentiment.vaderSentiment import SentimentIntensityAnalyzer\n",
    "data = pd.read_excel('/home/aman/Documents/Data Analysis/BlogMe Sentiment/articles.xlsx')\n",
    "\n",
    "data.groupby(['source_id'])['article_id'].count()\n",
    "\n",
    "data.groupby(['source_id'])['engagement_reaction_count'].count()\n",
    "\n",
    "def keywordflag(keyword):\n",
    "    length = len(data)\n",
    "    keyword_flag = []\n",
    "    for x in range(0, length):\n",
    "        heading = data['title'][x]\n",
    "        try:\n",
    "            if keyword in heading:\n",
    "                flag = 1\n",
    "            else:\n",
    "                flag = 0\n",
    "        except:\n",
    "            flag = 0\n",
    "        keyword_flag.append(flag)\n",
    "    return keyword_flag\n",
    "keywordflag = keywordflag('murder')\n",
    "\n",
    "data['keyword_flag'] = pd.Series(keywordflag)\n",
    "\n",
    "#SentimentIntensityAnalyzer\n",
    "sent_int = SentimentIntensityAnalyzer()\n",
    "text = data['title'][16]\n",
    "sent = sent_int.polarity_scores(text)\n",
    "\n",
    "neg = sent['neg']\n",
    "neu = sent['neu']\n",
    "pos = sent['pos']\n",
    "\n",
    "title_neg_sentiment = []\n",
    "title_pos_sentiment = []\n",
    "title_neu_sentiment = []\n",
    "length = len(data)\n",
    "for x in range(0,length):\n",
    "    try:\n",
    "        text = data['title'][x]\n",
    "        sent = sent_int.polarity_scores(text)\n",
    "        neg = sent['neg']\n",
    "        neu = sent['neu']\n",
    "        pos = sent['pos']\n",
    "    except:\n",
    "        neg = 0; neu = 0; pos = 0\n",
    "    title_neg_sentiment.append(neg)\n",
    "    title_neu_sentiment.append(neu)\n",
    "    title_pos_sentiment.append(pos)\n",
    "title_neg_sentiment = pd.Series(title_neg_sentiment)\n",
    "title_neu_sentiment = pd.Series(title_neu_sentiment)\n",
    "title_pos_sentiment = pd.Series(title_pos_sentiment)\n",
    "\n",
    "data['title_neg_sentiment'] = title_neg_sentiment\n",
    "data['title_neu_sentiment'] = title_neu_sentiment\n",
    "data['title_pos_sentiment'] = title_pos_sentiment\n",
    "\n",
    "data.to_excel('/home/aman/Documents/Data Analysis/BlogMe Sentiment/blogme_clean.xlsx', sheet_name ='blogme_data', index = False)\n"
   ]
  },
  {
   "cell_type": "code",
   "execution_count": null,
   "id": "a18bedf4-4eac-4af0-901a-275b78ff5fd3",
   "metadata": {},
   "outputs": [],
   "source": []
  },
  {
   "cell_type": "code",
   "execution_count": 11,
   "id": "8f9de77d-580a-44c4-980d-552352e4929a",
   "metadata": {},
   "outputs": [
    {
     "data": {
      "text/plain": [
       "source_id\n",
       "1                             1\n",
       "abc-news                   1139\n",
       "al-jazeera-english          499\n",
       "bbc-news                   1242\n",
       "business-insider           1048\n",
       "cbs-news                    952\n",
       "cnn                        1132\n",
       "espn                         82\n",
       "newsweek                    539\n",
       "reuters                    1252\n",
       "the-irish-times            1232\n",
       "the-new-york-times          986\n",
       "the-wall-street-journal     333\n",
       "Name: article_id, dtype: int64"
      ]
     },
     "execution_count": 11,
     "metadata": {},
     "output_type": "execute_result"
    }
   ],
   "source": [
    "data.groupby(['source_id'])['article_id'].count()"
   ]
  },
  {
   "cell_type": "code",
   "execution_count": null,
   "id": "d4802ec3-09b0-4c8f-84d3-9e4196604047",
   "metadata": {},
   "outputs": [],
   "source": []
  }
 ],
 "metadata": {
  "kernelspec": {
   "display_name": "Python 3 (ipykernel)",
   "language": "python",
   "name": "python3"
  },
  "language_info": {
   "codemirror_mode": {
    "name": "ipython",
    "version": 3
   },
   "file_extension": ".py",
   "mimetype": "text/x-python",
   "name": "python",
   "nbconvert_exporter": "python",
   "pygments_lexer": "ipython3",
   "version": "3.10.12"
  }
 },
 "nbformat": 4,
 "nbformat_minor": 5
}
